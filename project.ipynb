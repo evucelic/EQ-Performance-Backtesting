{
 "cells": [
  {
   "cell_type": "code",
   "execution_count": 1,
   "metadata": {},
   "outputs": [],
   "source": [
    "import yfinance as yf\n",
    "import pandas as pd"
   ]
  },
  {
   "cell_type": "code",
   "execution_count": 2,
   "metadata": {},
   "outputs": [
    {
     "name": "stderr",
     "output_type": "stream",
     "text": [
      "[*********************100%***********************]  4 of 4 completed"
     ]
    },
    {
     "name": "stdout",
     "output_type": "stream",
     "text": [
      "Ticker                           AGG         GC=F         SPY        VNQ\n",
      "Date                                                                    \n",
      "2012-01-03 00:00:00+00:00  79.204147  1599.699951  101.091934  35.285404\n",
      "2012-01-04 00:00:00+00:00  79.096207  1611.900024  101.250496  34.682129\n",
      "2012-01-05 00:00:00+00:00  79.204147  1619.400024  101.520088  35.007908\n",
      "2012-01-06 00:00:00+00:00  79.268974  1616.099976  101.258469  34.893276\n",
      "2012-01-09 00:00:00+00:00  79.204147  1607.500000  101.504250  34.772636\n",
      "...                              ...          ...         ...        ...\n",
      "2023-12-22 00:00:00+00:00  95.855186  2057.100098  469.225250  85.181526\n",
      "2023-12-26 00:00:00+00:00  96.049171  2058.199951  471.206543  85.812798\n",
      "2023-12-27 00:00:00+00:00  96.660194  2081.899902  472.058533  86.230392\n",
      "2023-12-28 00:00:00+00:00  96.446831  2073.899902  472.236847  86.842232\n",
      "2023-12-29 00:00:00+00:00  96.262550  2062.399902  470.869720  85.812798\n",
      "\n",
      "[3018 rows x 4 columns]\n"
     ]
    },
    {
     "name": "stderr",
     "output_type": "stream",
     "text": [
      "\n"
     ]
    }
   ],
   "source": [
    "tickers = [\"SPY\", \"AGG\", \"GC=F\", \"VNQ\"]\n",
    "\n",
    "data = yf.download(tickers, start=\"2012-01-01\", end=\"2023-12-31\")[\"Adj Close\"]\n",
    "\n",
    "print(data)"
   ]
  },
  {
   "cell_type": "code",
   "execution_count": 15,
   "metadata": {},
   "outputs": [
    {
     "name": "stdout",
     "output_type": "stream",
     "text": [
      "    Asset class    2012    2013    2014    2015    2016    2017    2018  \\\n",
      "0        Equity  35.06%  40.81%  40.62%  40.64%  40.67%  42.67%  40.41%   \n",
      "1  Fixed income  48.21%  46.00%  46.19%  46.63%  46.53%  44.80%  46.90%   \n",
      "2     Commodity  12.27%   8.30%   7.74%   7.10%   7.33%   7.15%   7.29%   \n",
      "3   Real estate   4.47%   4.89%   5.46%   5.63%   5.46%   5.38%   5.41%   \n",
      "\n",
      "     2019    2020    2021    2022    2023  \n",
      "0  42.43%  42.44%  46.09%  45.04%  46.72%  \n",
      "1  44.99%  45.52%  42.45%  42.95%  41.62%  \n",
      "2   7.33%   7.93%   6.92%   8.04%   7.93%  \n",
      "3   5.25%   4.12%   4.54%   3.97%   3.73%  \n"
     ]
    }
   ],
   "source": [
    "csvfile = pd.read_csv(\"asset_class_marketcaps.csv\", skiprows=1)\n",
    "marketcap_years = [str(year) for year in range(2012, 2024)]\n",
    "weights_years = [str(year)+\".1\" for year in range(2012, 2024)]\n",
    "\n",
    "marketcap_df = csvfile[['Asset class'] + marketcap_years]\n",
    "\n",
    "weights_df = csvfile[['Asset class'] + weights_years]\n",
    "weights_df.columns = ['Asset class'] + marketcap_years\n",
    "print(weights_df)"
   ]
  }
 ],
 "metadata": {
  "kernelspec": {
   "display_name": "projektR",
   "language": "python",
   "name": "python3"
  },
  "language_info": {
   "codemirror_mode": {
    "name": "ipython",
    "version": 3
   },
   "file_extension": ".py",
   "mimetype": "text/x-python",
   "name": "python",
   "nbconvert_exporter": "python",
   "pygments_lexer": "ipython3",
   "version": "3.10.15"
  }
 },
 "nbformat": 4,
 "nbformat_minor": 2
}
